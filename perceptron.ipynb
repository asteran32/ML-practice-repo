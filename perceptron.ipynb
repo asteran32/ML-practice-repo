{
 "cells": [
  {
   "cell_type": "markdown",
   "metadata": {},
   "source": [
    "# Perceptron"
   ]
  },
  {
   "cell_type": "code",
   "execution_count": 3,
   "metadata": {},
   "outputs": [],
   "source": [
    "import numpy as np\n",
    "from sklearn.datasets import load_iris\n",
    "import matplotlib.pyplot as plt"
   ]
  },
  {
   "cell_type": "code",
   "execution_count": 1,
   "metadata": {},
   "outputs": [],
   "source": [
    "class Perceptron():\n",
    "    def __init__(self, threshold, lr, iter):\n",
    "        self._threshold = threshold\n",
    "        self._lr = lr\n",
    "        self._iter = iter\n",
    "    \n",
    "    def fit(self, X, y):\n",
    "        self._w = np.zeros(1+X.shape[1])\n",
    "        self.loss = []\n",
    "\n",
    "        for _ in range(self._iter):\n",
    "            error = 0\n",
    "            for xi, target in zip(X, y):\n",
    "                update = self._lr * (target - self.predit(xi))\n",
    "                self._w[1:] += update * xi \n",
    "                self._w[0] += update \n",
    "                error += int(update != 0.0)\n",
    "            self.loss.append(error)\n",
    "            print(self._w)\n",
    "        return self\n",
    "\n",
    "    def feed(self, X):\n",
    "        return np.dot(X, self._w[1:]) + self._w[0] # np.dot => matrics multifly\n",
    "\n",
    "    def predit(self, X):\n",
    "        return np.where(self.feed(X) > self._threshold, 1, -1)"
   ]
  },
  {
   "cell_type": "markdown",
   "metadata": {},
   "source": [
    "Iris 데이터셋 불러오기"
   ]
  },
  {
   "cell_type": "code",
   "execution_count": 20,
   "metadata": {},
   "outputs": [
    {
     "data": {
      "image/png": "[encoded data removed]",
      "text/plain": [
       "<Figure size 432x288 with 1 Axes>"
      ]
     },
     "metadata": {
      "needs_background": "light"
     },
     "output_type": "display_data"
    }
   ],
   "source": [
    "iris = load_iris()\n",
    "X = iris.data[:100,[0,1]]\n",
    "y = iris.target[:100]\n",
    "y = np.where(y==0, -1, 1)\n",
    "\n",
    "# Draw plt\n",
    "plt.scatter(X[:50,0], X[:50, 1], color='r', marker='o', label='setosa')\n",
    "plt.scatter(X[50:100,0], X[50:100, 1], color='b', marker='x', label='versicolor')\n",
    "plt.title('Iris data')\n",
    "plt.xlabel('petal (cm)')\n",
    "plt.ylabel('calyx (cm)')\n",
    "plt.legend(loc=4)\n",
    "plt.show()"
   ]
  },
  {
   "cell_type": "code",
   "execution_count": 26,
   "metadata": {},
   "outputs": [
    {
     "name": "stdout",
     "output_type": "stream",
     "text": [
      "[0.002  0.014  0.0064]\n",
      "[ 0.      0.008  -0.0002]\n",
      "[ 0.      0.0118 -0.0008]\n",
      "[ 0.      0.0156 -0.0014]\n",
      "[-0.002   0.0104 -0.0066]\n",
      "[-0.002   0.0142 -0.0072]\n",
      "[-0.002   0.018  -0.0078]\n",
      "[-0.002   0.0206 -0.0084]\n",
      "[-0.004   0.0146 -0.015 ]\n",
      "[-0.004   0.0184 -0.0156]\n",
      "[-0.004   0.0222 -0.0162]\n",
      "[-0.004   0.0248 -0.0168]\n",
      "[-0.006   0.0196 -0.022 ]\n",
      "[-0.006   0.0234 -0.0226]\n",
      "[-0.006   0.0272 -0.0232]\n",
      "[-0.006   0.0296 -0.0236]\n",
      "[-0.008   0.0244 -0.0288]\n",
      "[-0.008   0.0282 -0.0294]\n",
      "[-0.008  0.032 -0.03 ]\n",
      "[-0.01    0.0268 -0.0352]\n",
      "[1, 3, 2, 2, 3, 2, 2, 2, 3, 2, 2, 2, 3, 2, 2, 2, 3, 2, 2, 3]\n"
     ]
    }
   ],
   "source": [
    "threshold = 0.0\n",
    "lr = 0.001\n",
    "iter = 20\n",
    "\n",
    "p = Perceptron(threshold, lr, iter)\n",
    "p.fit(X, y)\n",
    "print(p.loss)"
   ]
  },
  {
   "cell_type": "code",
   "execution_count": 28,
   "metadata": {},
   "outputs": [
    {
     "name": "stdout",
     "output_type": "stream",
     "text": [
      "Iris-versicolor\n",
      "Iris-versicolor\n",
      "Iris-versicolor\n",
      "Iris-versicolor\n",
      "Iris-versicolor\n",
      "Iris-versicolor\n",
      "Iris-versicolor\n",
      "Iris-versicolor\n",
      "Iris-versicolor\n",
      "Iris-versicolor\n"
     ]
    }
   ],
   "source": [
    "test_X = iris.data[100:110, [0, 1]]\n",
    "test_y = iris.target[100:110]\n",
    "\n",
    "w1 = -0.01\n",
    "w2 = 0.0268\n",
    "w3 = -0.0352\n",
    "\n",
    "for x, target in zip(test_X, test_y):\n",
    "    predit = w1 + w2*x[0] + w3*x[1]\n",
    "    print(\"Iris-setosa\" if predit <= 0 else \"Iris-versicolor\")\n"
   ]
  },
  {
   "cell_type": "code",
   "execution_count": null,
   "metadata": {},
   "outputs": [],
   "source": []
  }
 ],
 "metadata": {
  "interpreter": {
   "hash": "87fe247f406035910a5adebb7e117cf3506fa32f8238f6947adc06aa221fd271"
  },
  "kernelspec": {
   "display_name": "Python 3.10.4 64-bit ('shims')",
   "language": "python",
   "name": "python3"
  },
  "language_info": {
   "codemirror_mode": {
    "name": "ipython",
    "version": 3
   },
   "file_extension": ".py",
   "mimetype": "text/x-python",
   "name": "python",
   "nbconvert_exporter": "python",
   "pygments_lexer": "ipython3",
   "version": "3.10.4"
  },
  "orig_nbformat": 4
 },
 "nbformat": 4,
 "nbformat_minor": 2
}
